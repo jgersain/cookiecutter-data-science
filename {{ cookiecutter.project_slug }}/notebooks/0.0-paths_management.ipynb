{
 "cells": [
  {
   "cell_type": "markdown",
   "metadata": {},
   "source": [
    "### System paths management: OS"
   ]
  },
  {
   "cell_type": "code",
   "execution_count": 23,
   "metadata": {},
   "outputs": [
    {
     "data": {
      "text/plain": [
       "['/home/jgersain/repositories/cookiecutter-personal/{{ cookiecutter.project_slug }}/notebooks/../data/.gitkeep']"
      ]
     },
     "execution_count": 23,
     "metadata": {},
     "output_type": "execute_result"
    }
   ],
   "source": [
    "import os\n",
    "\n",
    "# Get current dir\n",
    "CURRENT_DIR = os.getcwd()\n",
    "\n",
    "# Create paths\n",
    "DATA_DIR = os.path.join(CURRENT_DIR, os.pardir, \"data\")\n",
    "\n",
    "# Validate \n",
    "exists = os.path.exists(DATA_DIR)\n",
    "is_dir = os.path.isdir(DATA_DIR)\n",
    "\n",
    "# List directory : return strings\n",
    "directory_content = [os.path.join(DATA_DIR, item) for item in os.listdir(DATA_DIR)]\n",
    "\n",
    "# Create a new directory\n",
    "os.mkdir(os.path.join(DATA_DIR, 'os'))\n",
    "\n",
    "directory_content"
   ]
  },
  {
   "cell_type": "markdown",
   "metadata": {},
   "source": [
    "### Pathlib"
   ]
  },
  {
   "cell_type": "code",
   "execution_count": 20,
   "metadata": {},
   "outputs": [
    {
     "data": {
      "text/plain": [
       "[PosixPath('/home/jgersain/repositories/cookiecutter-personal/{{ cookiecutter.project_slug }}/data/.gitkeep')]"
      ]
     },
     "execution_count": 20,
     "metadata": {},
     "output_type": "execute_result"
    }
   ],
   "source": [
    "import pathlib\n",
    "\n",
    "# Get current directory\n",
    "CURRENT_DIR = pathlib.Path('.').resolve()\n",
    "\n",
    "# Create path\n",
    "DATA_DIR = CURRENT_DIR.parent.joinpath('data')\n",
    "\n",
    "# Validations\n",
    "DATA_DIR.exists()\n",
    "DATA_DIR.is_dir()\n",
    "\n",
    "# List directory content: return objects\n",
    "directory_content = list(DATA_DIR.glob('*'))\n",
    "\n",
    "# Crete new directory\n",
    "DATA_DIR.joinpath('os').mkdir()"
   ]
  }
 ],
 "metadata": {
  "kernelspec": {
   "display_name": "Python 3.10.6 ('cookiecutter-personal')",
   "language": "python",
   "name": "python3"
  },
  "language_info": {
   "codemirror_mode": {
    "name": "ipython",
    "version": 3
   },
   "file_extension": ".py",
   "mimetype": "text/x-python",
   "name": "python",
   "nbconvert_exporter": "python",
   "pygments_lexer": "ipython3",
   "version": "3.10.6"
  },
  "orig_nbformat": 4,
  "vscode": {
   "interpreter": {
    "hash": "cd785fedb50650cbc059b0d4048fb3bd5181165b0fe4fa22ee933d05fa267ede"
   }
  }
 },
 "nbformat": 4,
 "nbformat_minor": 2
}
