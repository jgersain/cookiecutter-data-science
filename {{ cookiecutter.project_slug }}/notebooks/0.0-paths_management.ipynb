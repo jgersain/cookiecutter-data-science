{
 "cells": [
  {
   "cell_type": "markdown",
   "metadata": {},
   "source": [
    "### System paths management: OS"
   ]
  },
  {
   "cell_type": "code",
   "execution_count": null,
   "metadata": {},
   "outputs": [],
   "source": [
    "import os\n",
    "\n",
    "# Get current dir\n",
    "CURRENT_DIR = os.getcwd()\n",
    "\n",
    "# Create paths\n",
    "DATA_DIR = os.path.join(CURRENT_DIR, os.pardir, \"data\")\n",
    "\n",
    "# Validate \n",
    "exists = os.path.exists(DATA_DIR)\n",
    "is_dir = os.path.isdir(DATA_DIR)\n",
    "\n",
    "# List directory : return strings\n",
    "directory_content = [os.path.join(DATA_DIR, item) for item in os.listdir(DATA_DIR)]\n",
    "\n",
    "# Create a new directory\n",
    "os.mkdir(os.path.join(DATA_DIR, 'os'))\n",
    "\n",
    "directory_content"
   ]
  },
  {
   "cell_type": "markdown",
   "metadata": {},
   "source": [
    "### Pathlib"
   ]
  },
  {
   "cell_type": "code",
   "execution_count": null,
   "metadata": {},
   "outputs": [],
   "source": [
    "import pathlib\n",
    "\n",
    "# Get current directory\n",
    "CURRENT_DIR = pathlib.Path('.').resolve()\n",
    "\n",
    "# Create path\n",
    "DATA_DIR = CURRENT_DIR.parent.joinpath('data')\n",
    "\n",
    "# Validations\n",
    "DATA_DIR.exists()\n",
    "DATA_DIR.is_dir()\n",
    "\n",
    "# List directory content: return objects\n",
    "directory_content = list(DATA_DIR.glob('*'))\n",
    "\n",
    "# Crete new directory\n",
    "DATA_DIR.joinpath('os').mkdir()"
   ]
  },
  {
   "cell_type": "markdown",
   "metadata": {},
   "source": [
    "### PyFilesystem2"
   ]
  },
  {
   "cell_type": "code",
   "execution_count": null,
   "metadata": {},
   "outputs": [],
   "source": [
    "import fs\n",
    "\n",
    "# Get current dir\n",
    "CURRENT_DIR = fs.open_fs('.')\n",
    "\n",
    "# Create new directory\n",
    "DATA_DIR = fs.open_fs('../data')\n",
    "\n",
    "# Validations: Not support ../\n",
    "DATA_DIR.exists('.')\n",
    "\n",
    "# List directory content\n",
    "DATA_DIR.listdir('.')\n",
    "for path in DATA_DIR.walk.files():\n",
    "  print(path)\n",
    "\n",
    "# Create a new directory\n",
    "DATA_DIR.makedir(\"test\", recreate=True)\n"
   ]
  },
  {
   "cell_type": "markdown",
   "metadata": {},
   "source": [
    "### Create relative paths"
   ]
  },
  {
   "cell_type": "code",
   "execution_count": null,
   "metadata": {},
   "outputs": [],
   "source": [
    "import pyprojroot\n",
    "\n",
    "pyprojroot.here().joinpath('data')"
   ]
  },
  {
   "cell_type": "code",
   "execution_count": null,
   "metadata": {},
   "outputs": [],
   "source": [
    "# !pip install pyhere\n",
    "import pyhere\n",
    "\n",
    "pyhere.here().resolve() / \"data\"\n"
   ]
  },
  {
   "cell_type": "markdown",
   "metadata": {},
   "source": [
    "### Create shorcuts"
   ]
  },
  {
   "cell_type": "code",
   "execution_count": null,
   "metadata": {},
   "outputs": [],
   "source": [
    "def make_dir_function(dir_name):\n",
    "\n",
    "  def dir_function(*args):\n",
    "    return pyprojroot.here().joinpath(dir_name, *args)\n",
    "  return dir_function"
   ]
  },
  {
   "cell_type": "code",
   "execution_count": null,
   "metadata": {},
   "outputs": [],
   "source": [
    "# set data directory as root\n",
    "data_dir = make_dir_function('data')\n",
    "data_dir('os')"
   ]
  }
 ],
 "metadata": {
  "kernelspec": {
   "display_name": "Python 3.10.6 ('cookiecutter-personal')",
   "language": "python",
   "name": "python3"
  },
  "language_info": {
   "codemirror_mode": {
    "name": "ipython",
    "version": 3
   },
   "file_extension": ".py",
   "mimetype": "text/x-python",
   "name": "python",
   "nbconvert_exporter": "python",
   "pygments_lexer": "ipython3",
   "version": "3.10.6"
  },
  "orig_nbformat": 4,
  "vscode": {
   "interpreter": {
    "hash": "cd785fedb50650cbc059b0d4048fb3bd5181165b0fe4fa22ee933d05fa267ede"
   }
  }
 },
 "nbformat": 4,
 "nbformat_minor": 2
}
